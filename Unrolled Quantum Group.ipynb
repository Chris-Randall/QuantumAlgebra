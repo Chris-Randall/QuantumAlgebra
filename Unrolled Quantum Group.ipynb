{
 "cells": [
  {
   "cell_type": "code",
   "execution_count": 5,
   "id": "79258dd9",
   "metadata": {},
   "outputs": [
    {
     "ename": "TypeError",
     "evalue": "'builtin_function_or_method' object cannot be interpreted as an integer",
     "output_type": "error",
     "traceback": [
      "\u001b[0;31m---------------------------------------------------------------------------\u001b[0m",
      "\u001b[0;31mTypeError\u001b[0m                                 Traceback (most recent call last)",
      "Input \u001b[0;32mIn [5]\u001b[0m, in \u001b[0;36m<cell line: 11>\u001b[0;34m()\u001b[0m\n\u001b[1;32m      8\u001b[0m     \u001b[38;5;28;01mreturn\u001b[39;00m gen\n\u001b[1;32m     10\u001b[0m m \u001b[38;5;241m=\u001b[39m matrix([[Integer(\u001b[38;5;241m2\u001b[39m),\u001b[38;5;241m-\u001b[39mInteger(\u001b[38;5;241m1\u001b[39m)],[\u001b[38;5;241m-\u001b[39mInteger(\u001b[38;5;241m1\u001b[39m),Integer(\u001b[38;5;241m2\u001b[39m)]])\n\u001b[0;32m---> 11\u001b[0m \u001b[38;5;28mprint\u001b[39m(\u001b[43mcreateGenerators\u001b[49m\u001b[43m(\u001b[49m\u001b[43mm\u001b[49m\u001b[43m)\u001b[49m)\n",
      "Input \u001b[0;32mIn [5]\u001b[0m, in \u001b[0;36mcreateGenerators\u001b[0;34m(Cartan)\u001b[0m\n\u001b[1;32m      4\u001b[0m gen \u001b[38;5;241m=\u001b[39m []\n\u001b[1;32m      5\u001b[0m \u001b[38;5;28;01mfor\u001b[39;00m s \u001b[38;5;129;01min\u001b[39;00m sym:  \n\u001b[0;32m----> 6\u001b[0m     \u001b[38;5;28;01mfor\u001b[39;00m i \u001b[38;5;129;01min\u001b[39;00m \u001b[38;5;28;43mrange\u001b[39;49m\u001b[43m(\u001b[49m\u001b[43mn\u001b[49m\u001b[43m)\u001b[49m:\n\u001b[1;32m      7\u001b[0m         gen\u001b[38;5;241m.\u001b[39mappend(sym \u001b[38;5;241m+\u001b[39m \u001b[38;5;28mstr\u001b[39m(i\u001b[38;5;241m+\u001b[39mInteger(\u001b[38;5;241m1\u001b[39m)))\n\u001b[1;32m      8\u001b[0m \u001b[38;5;28;01mreturn\u001b[39;00m gen\n",
      "\u001b[0;31mTypeError\u001b[0m: 'builtin_function_or_method' object cannot be interpreted as an integer"
     ]
    }
   ],
   "source": [
    "def createGenerators(Cartan):\n",
    "    n = Cartan.nrows\n",
    "    sym = {\"E\", \"F\", \"K\", \"k\", \"H\"}\n",
    "    gen = []\n",
    "    for s in sym:  \n",
    "        for i in range(n):\n",
    "            gen.append(sym + str(i+1))\n",
    "    return gen\n",
    "\n",
    "m = matrix([[2,-1],[-1,2]])\n",
    "print(createGenerators(m))\n",
    "\n",
    "#def createUnrolled(Cartan, r):\n",
    "    "
   ]
  },
  {
   "cell_type": "code",
   "execution_count": null,
   "id": "19673196",
   "metadata": {},
   "outputs": [],
   "source": []
  }
 ],
 "metadata": {
  "kernelspec": {
   "display_name": "SageMath 9.7",
   "language": "sage",
   "name": "sagemath-9.7"
  },
  "language_info": {
   "codemirror_mode": {
    "name": "ipython",
    "version": 3
   },
   "file_extension": ".py",
   "mimetype": "text/x-python",
   "name": "python",
   "nbconvert_exporter": "python",
   "pygments_lexer": "ipython3",
   "version": "3.10.5"
  }
 },
 "nbformat": 4,
 "nbformat_minor": 5
}
