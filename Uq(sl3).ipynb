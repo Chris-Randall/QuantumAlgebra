{
 "cells": [
  {
   "cell_type": "code",
   "execution_count": null,
   "id": "b8c5899d",
   "metadata": {},
   "outputs": [],
   "source": [
    "F.<E1,E2,E3,F1,F2,F3,K1,K2,k1,k2,H1,H2> = FreeAlgebra(QQ,12)\n",
    "\n",
    "U_relations = {\n",
    "    K1*k1 : 1,\n",
    "    k1*K1 : 1,\n",
    "    K2*k2 : 1,\n",
    "    k2*K2 : 1,\n",
    "    K2*K1 : K1*K2,\n",
    "    k2*k1 : k1*k2,\n",
    "    k1*K2 : K2*k1,\n",
    "    k2*K1 : K1*k2,\n",
    "    H1*K1 : K1*H1,\n",
    "    H2*K1 : K1*H2,\n",
    "    H1*K2 : K2*H1,\n",
    "    H2*K2 : K2*H2,\n",
    "    H1*k1 : k1*H1,\n",
    "    H2*k1 : k1*H2,\n",
    "    H1*k2 : k2*H1,\n",
    "    H2*k2 : k2*H2,\n",
    "    H1*H2 : H2*H1,\n",
    "    H1*E1 : E1*H1 + 2*H1,\n",
    "    H1*E2 : E2*H1 - H1,\n",
    "    H2*E1 : E1*H2 - H2,\n",
    "    H2*E2 : E2*H2 + 2*H2,\n",
    "    H1*F1 : F1*H1 - 2*H1,\n",
    "    H1*F2 : F2*H1 + H1,\n",
    "    H2*F1 : F1*H2 + H2,\n",
    "    H2*F2 : F2*H2 - 2*H2,\n",
    "    K1*E1\n",
    "    K2*E2\n",
    "}\n",
    "\n",
    "U = F.g_algebra(U_relations)"
   ]
  }
 ],
 "metadata": {
  "kernelspec": {
   "display_name": "SageMath 9.7",
   "language": "sage",
   "name": "sagemath-9.7"
  },
  "language_info": {
   "codemirror_mode": {
    "name": "ipython",
    "version": 3
   },
   "file_extension": ".py",
   "mimetype": "text/x-python",
   "name": "python",
   "nbconvert_exporter": "python",
   "pygments_lexer": "ipython3",
   "version": "3.10.5"
  }
 },
 "nbformat": 4,
 "nbformat_minor": 5
}
